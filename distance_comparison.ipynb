{
 "cells": [
  {
   "cell_type": "markdown",
   "metadata": {},
   "source": [
    "# Distance Comparison between Google Distance Matrix API and Haversine (as the crow flies)"
   ]
  },
  {
   "cell_type": "markdown",
   "metadata": {},
   "source": [
    "## Preprocessing Steps"
   ]
  },
  {
   "cell_type": "markdown",
   "metadata": {},
   "source": [
    "Importing python modules and getting API key"
   ]
  },
  {
   "cell_type": "code",
   "execution_count": 1,
   "metadata": {},
   "outputs": [],
   "source": [
    "from sklearn.neighbors import NearestNeighbors\n",
    "import geopandas as gp\n",
    "import numpy as np\n",
    "import os\n",
    "import googlemaps\n",
    "import matplotlib.pyplot as plt\n",
    "\n",
    "gp.pd.options.display.max_rows = 10\n",
    "\n",
    "apikey = os.getenv('GOOGLE_MAP_API_KEY')\n",
    "gmaps  = googlemaps.Client(apikey)"
   ]
  },
  {
   "cell_type": "markdown",
   "metadata": {},
   "source": [
    "Read in shapefile"
   ]
  },
  {
   "cell_type": "code",
   "execution_count": 2,
   "metadata": {
    "scrolled": true
   },
   "outputs": [],
   "source": [
    "wdir = r'X:\\MS2'\n",
    "ma = gp.read_file(os.path.join(wdir,'Mhd2017Export.shp'))"
   ]
  },
  {
   "cell_type": "markdown",
   "metadata": {},
   "source": [
    "Iterate through each geometry and choose an arbitrary point to represent the road segment. Here I chose the first point in the linestring."
   ]
  },
  {
   "cell_type": "code",
   "execution_count": 3,
   "metadata": {},
   "outputs": [],
   "source": [
    "geom = []\n",
    "for row in ma.itertuples():\n",
    "    if row.geometry.type == 'LineString':\n",
    "        geom.append(row.geometry.coords[0])\n",
    "    elif row.geometry.type == 'MultiLineString':\n",
    "        for linestring in row.geometry:\n",
    "            geom.append(linestring.coords[0])\n",
    "            break\n",
    "ma['pt'] = geom"
   ]
  },
  {
   "cell_type": "markdown",
   "metadata": {},
   "source": [
    "Choosing a subsample to compare. Here I choose based on county. I choose Berkshire county because it borders both the northern and southern boundary of Massachusetts."
   ]
  },
  {
   "cell_type": "code",
   "execution_count": 4,
   "metadata": {},
   "outputs": [],
   "source": [
    "county = ma[(ma['COUNTY'] == '3')]\n",
    "county.reset_index(drop=True, inplace=True)"
   ]
  },
  {
   "cell_type": "markdown",
   "metadata": {},
   "source": [
    "Use the nearest neighbor algorithm to find the closest `k` neighbors for each road segment. It returns the neighbor id (row number) along with the corresponding haversine distance. We multiply it by Earth's radius to get it in the appropriate unit."
   ]
  },
  {
   "cell_type": "code",
   "execution_count": 5,
   "metadata": {},
   "outputs": [],
   "source": [
    "XY = county['pt'].tolist()\n",
    "XY = [[pt[1],pt[0]] for pt in XY] # latitutde,longitude format \n",
    "xy = np.radians(XY)\n",
    "k = 20\n",
    "nbrs = NearestNeighbors(n_neighbors=k+1, algorithm='auto', leaf_size=30, metric='haversine')\n",
    "nbrs.fit(xy)\n",
    "distances, nid = nbrs.kneighbors(xy)\n",
    "R = 6371 # avg Earth radius in km\n",
    "distances *= R"
   ]
  },
  {
   "cell_type": "code",
   "execution_count": 6,
   "metadata": {},
   "outputs": [
    {
     "data": {
      "text/plain": [
       "array([[   0,   23,   24, ..., 2776,  927, 2608],\n",
       "       [   1,  926,  927, ..., 3141, 2820,   13],\n",
       "       [   2,  928,  927, ..., 2706, 2516, 2821],\n",
       "       ..., \n",
       "       [3220, 2936, 2927, ...,  143,  176,  177],\n",
       "       [3221, 2928, 3222, ..., 2987, 2980, 3214],\n",
       "       [3222, 2948, 2928, ..., 2987, 2980, 3214]], dtype=int64)"
      ]
     },
     "execution_count": 6,
     "metadata": {},
     "output_type": "execute_result"
    }
   ],
   "source": [
    "nid"
   ]
  },
  {
   "cell_type": "code",
   "execution_count": 7,
   "metadata": {},
   "outputs": [
    {
     "data": {
      "text/plain": [
       "array([[ 0.        ,  0.11624839,  0.14769209, ...,  0.79839008,\n",
       "         0.80492603,  0.8175712 ],\n",
       "       [ 0.        ,  0.12335718,  0.16070397, ...,  0.59028603,\n",
       "         0.59220125,  0.59401006],\n",
       "       [ 0.        ,  0.1044344 ,  0.15796374, ...,  0.45832769,\n",
       "         0.4823994 ,  0.4892717 ],\n",
       "       ..., \n",
       "       [ 0.        ,  0.08251677,  0.14064991, ...,  0.9275115 ,\n",
       "         0.93867396,  0.95895518],\n",
       "       [ 0.        ,  0.02395408,  0.05064373, ...,  1.07913732,\n",
       "         1.39614578,  1.43711027],\n",
       "       [ 0.        ,  0.00658318,  0.02681579, ...,  1.12675085,\n",
       "         1.34878615,  1.38973484]])"
      ]
     },
     "execution_count": 7,
     "metadata": {},
     "output_type": "execute_result"
    }
   ],
   "source": [
    "distances"
   ]
  },
  {
   "cell_type": "markdown",
   "metadata": {},
   "source": [
    "For each road segment, choose a random neighbor to construct an origin-destination (O-D) pair. Construct a dataframe from the O-D pairs and remove any duplicates. Set random seed for reproducibility."
   ]
  },
  {
   "cell_type": "code",
   "execution_count": 8,
   "metadata": {},
   "outputs": [],
   "source": [
    "count = 0\n",
    "np.random.seed(2018)\n",
    "OD = []\n",
    "for origin in range(county.shape[0]):\n",
    "    choice = np.random.randint(1,k,1)[0]\n",
    "    dest = nid[origin][choice]\n",
    "    dist = distances[origin][choice] * 1000\n",
    "    if origin < dest:\n",
    "        OD.append((origin,dest,choice,dist))\n",
    "    else:\n",
    "        OD.append((dest,origin,choice,dist))\n",
    "    if dist < 0.001:\n",
    "        count += 1\n",
    "        \n",
    "df = gp.pd.DataFrame(OD, columns=['origin','dest','n_neighbor','crow']).drop_duplicates(['origin','dest'])"
   ]
  },
  {
   "cell_type": "markdown",
   "metadata": {},
   "source": [
    "Sample the dataframe so we are within the daily Google API rate limit of 2500 O-D pairs."
   ]
  },
  {
   "cell_type": "code",
   "execution_count": 9,
   "metadata": {},
   "outputs": [],
   "source": [
    "sample = df.sample(n=2400).sort_values(['origin','dest']).reset_index(drop=True)"
   ]
  },
  {
   "cell_type": "markdown",
   "metadata": {},
   "source": [
    "Iterate through the dataframe and make a request to the Google Distance Matrix API. Construct a dataframe from this data and save the data to a file for future reference. "
   ]
  },
  {
   "cell_type": "code",
   "execution_count": 10,
   "metadata": {},
   "outputs": [],
   "source": [
    "api_flag = False\n",
    "if api_flag:\n",
    "    coords = []\n",
    "    for row in sample.itertuples():\n",
    "        origin = '{:.6f},{:.6f}'.format(XY[row.origin][0],XY[row.origin][1])\n",
    "        dest = '{:.6f},{:.6f}'.format(XY[row.dest][0],XY[row.dest][1])\n",
    "        R = gmaps.distance_matrix(origins=origin, destinations=dest)\n",
    "        distance = R['rows'][0]['elements'][0]['distance']['value']\n",
    "        coords.append((XY[row.origin],XY[row.dest],distance))\n",
    "    driving = gp.pd.DataFrame(coords, columns=['origin','dest','goog'])\n",
    "    driving.to_csv('google_distance_matrix.csv', index=False, sep='|')\n",
    "else:\n",
    "    driving = gp.pd.read_csv('google_distance_matrix.csv', sep='|')"
   ]
  },
  {
   "cell_type": "markdown",
   "metadata": {},
   "source": [
    "Combine the two datasets (haversine and google) and calculate the difference."
   ]
  },
  {
   "cell_type": "code",
   "execution_count": 11,
   "metadata": {},
   "outputs": [],
   "source": [
    "sample['goog'] = driving['goog']\n",
    "sample['delta'] =  sample['goog'] - sample['crow']\n",
    "sample.sort_values('delta', inplace=True)"
   ]
  },
  {
   "cell_type": "markdown",
   "metadata": {},
   "source": [
    "## Descriptive Statistics"
   ]
  },
  {
   "cell_type": "markdown",
   "metadata": {},
   "source": [
    "Here is the dataframe that contains the relevant data. \n",
    "\n",
    "* origin, dest - contains row id of segment\n",
    "* n_neighbor - nth closest neighbor to segment\n",
    "* crow, goog - distance btw O-D pair for haversine and google API respectively\n",
    "* delta - difference between the two metrics\n",
    "\n",
    "Note: Distances are in meters for columns crow, goog, and delta."
   ]
  },
  {
   "cell_type": "code",
   "execution_count": 12,
   "metadata": {},
   "outputs": [
    {
     "data": {
      "text/html": [
       "<div>\n",
       "<style scoped>\n",
       "    .dataframe tbody tr th:only-of-type {\n",
       "        vertical-align: middle;\n",
       "    }\n",
       "\n",
       "    .dataframe tbody tr th {\n",
       "        vertical-align: top;\n",
       "    }\n",
       "\n",
       "    .dataframe thead th {\n",
       "        text-align: right;\n",
       "    }\n",
       "</style>\n",
       "<table border=\"1\" class=\"dataframe\">\n",
       "  <thead>\n",
       "    <tr style=\"text-align: right;\">\n",
       "      <th></th>\n",
       "      <th>origin</th>\n",
       "      <th>dest</th>\n",
       "      <th>n_neighbor</th>\n",
       "      <th>crow</th>\n",
       "      <th>goog</th>\n",
       "      <th>delta</th>\n",
       "    </tr>\n",
       "  </thead>\n",
       "  <tbody>\n",
       "    <tr>\n",
       "      <th>142</th>\n",
       "      <td>116</td>\n",
       "      <td>219</td>\n",
       "      <td>10</td>\n",
       "      <td>672.525865</td>\n",
       "      <td>668</td>\n",
       "      <td>-4.525865</td>\n",
       "    </tr>\n",
       "    <tr>\n",
       "      <th>639</th>\n",
       "      <td>550</td>\n",
       "      <td>1553</td>\n",
       "      <td>3</td>\n",
       "      <td>75.325174</td>\n",
       "      <td>72</td>\n",
       "      <td>-3.325174</td>\n",
       "    </tr>\n",
       "    <tr>\n",
       "      <th>1975</th>\n",
       "      <td>2285</td>\n",
       "      <td>2286</td>\n",
       "      <td>8</td>\n",
       "      <td>207.228675</td>\n",
       "      <td>204</td>\n",
       "      <td>-3.228675</td>\n",
       "    </tr>\n",
       "    <tr>\n",
       "      <th>715</th>\n",
       "      <td>601</td>\n",
       "      <td>1921</td>\n",
       "      <td>4</td>\n",
       "      <td>209.212445</td>\n",
       "      <td>206</td>\n",
       "      <td>-3.212445</td>\n",
       "    </tr>\n",
       "    <tr>\n",
       "      <th>271</th>\n",
       "      <td>222</td>\n",
       "      <td>249</td>\n",
       "      <td>3</td>\n",
       "      <td>355.083549</td>\n",
       "      <td>352</td>\n",
       "      <td>-3.083549</td>\n",
       "    </tr>\n",
       "    <tr>\n",
       "      <th>...</th>\n",
       "      <td>...</td>\n",
       "      <td>...</td>\n",
       "      <td>...</td>\n",
       "      <td>...</td>\n",
       "      <td>...</td>\n",
       "      <td>...</td>\n",
       "    </tr>\n",
       "    <tr>\n",
       "      <th>2275</th>\n",
       "      <td>2757</td>\n",
       "      <td>3031</td>\n",
       "      <td>17</td>\n",
       "      <td>2672.684762</td>\n",
       "      <td>31016</td>\n",
       "      <td>28343.315238</td>\n",
       "    </tr>\n",
       "    <tr>\n",
       "      <th>1969</th>\n",
       "      <td>2267</td>\n",
       "      <td>2497</td>\n",
       "      <td>7</td>\n",
       "      <td>1741.407797</td>\n",
       "      <td>30912</td>\n",
       "      <td>29170.592203</td>\n",
       "    </tr>\n",
       "    <tr>\n",
       "      <th>2087</th>\n",
       "      <td>2499</td>\n",
       "      <td>2916</td>\n",
       "      <td>15</td>\n",
       "      <td>1441.316883</td>\n",
       "      <td>32476</td>\n",
       "      <td>31034.683117</td>\n",
       "    </tr>\n",
       "    <tr>\n",
       "      <th>514</th>\n",
       "      <td>454</td>\n",
       "      <td>2491</td>\n",
       "      <td>17</td>\n",
       "      <td>2861.271057</td>\n",
       "      <td>36536</td>\n",
       "      <td>33674.728943</td>\n",
       "    </tr>\n",
       "    <tr>\n",
       "      <th>1232</th>\n",
       "      <td>1203</td>\n",
       "      <td>2417</td>\n",
       "      <td>13</td>\n",
       "      <td>2097.580642</td>\n",
       "      <td>38791</td>\n",
       "      <td>36693.419358</td>\n",
       "    </tr>\n",
       "  </tbody>\n",
       "</table>\n",
       "<p>2400 rows × 6 columns</p>\n",
       "</div>"
      ],
      "text/plain": [
       "      origin  dest  n_neighbor         crow   goog         delta\n",
       "142      116   219          10   672.525865    668     -4.525865\n",
       "639      550  1553           3    75.325174     72     -3.325174\n",
       "1975    2285  2286           8   207.228675    204     -3.228675\n",
       "715      601  1921           4   209.212445    206     -3.212445\n",
       "271      222   249           3   355.083549    352     -3.083549\n",
       "...      ...   ...         ...          ...    ...           ...\n",
       "2275    2757  3031          17  2672.684762  31016  28343.315238\n",
       "1969    2267  2497           7  1741.407797  30912  29170.592203\n",
       "2087    2499  2916          15  1441.316883  32476  31034.683117\n",
       "514      454  2491          17  2861.271057  36536  33674.728943\n",
       "1232    1203  2417          13  2097.580642  38791  36693.419358\n",
       "\n",
       "[2400 rows x 6 columns]"
      ]
     },
     "execution_count": 12,
     "metadata": {},
     "output_type": "execute_result"
    }
   ],
   "source": [
    "sample"
   ]
  },
  {
   "cell_type": "code",
   "execution_count": 13,
   "metadata": {},
   "outputs": [
    {
     "data": {
      "text/plain": [
       "count     2400.000000\n",
       "mean       706.100946\n",
       "std       2836.276653\n",
       "min         -4.525865\n",
       "50%         71.719718\n",
       "75%        331.092314\n",
       "90%       1195.414122\n",
       "95%       2546.184654\n",
       "99%      17596.912272\n",
       "max      36693.419358\n",
       "Name: delta, dtype: float64"
      ]
     },
     "execution_count": 13,
     "metadata": {},
     "output_type": "execute_result"
    }
   ],
   "source": [
    "sample['delta'].describe([0.75,0.9,0.95,0.99])"
   ]
  },
  {
   "cell_type": "markdown",
   "metadata": {},
   "source": [
    "## Comparison between Google and Haversine"
   ]
  },
  {
   "cell_type": "markdown",
   "metadata": {},
   "source": [
    "## Figure 1: Google vs Haversine"
   ]
  },
  {
   "cell_type": "code",
   "execution_count": 14,
   "metadata": {},
   "outputs": [
    {
     "name": "stderr",
     "output_type": "stream",
     "text": [
      "C:\\Users\\caoa\\AppData\\Local\\Continuum\\anaconda3\\lib\\site-packages\\matplotlib\\cbook\\deprecation.py:106: MatplotlibDeprecationWarning: Adding an axes using the same arguments as a previous axes currently reuses the earlier instance.  In a future version, a new instance will always be created and returned.  Meanwhile, this warning can be suppressed, and the future behavior ensured, by passing a unique label to each axes instance.\n",
      "  warnings.warn(message, mplDeprecation, stacklevel=1)\n"
     ]
    },
    {
     "data": {
      "text/plain": [
       "Text(6,1,'y=x')"
      ]
     },
     "execution_count": 14,
     "metadata": {},
     "output_type": "execute_result"
    },
    {
     "data": {
      "image/png": "[encoded data removed]",
      "text/plain": [
       "<matplotlib.figure.Figure at 0xba37278>"
      ]
     },
     "metadata": {},
     "output_type": "display_data"
    }
   ],
   "source": [
    "%matplotlib inline\n",
    "fig = plt.figure(figsize=(16,5))\n",
    "plt.scatter(sample['crow']/1000, sample['goog']/1000,alpha=0.1)\n",
    "plt.xlabel('Haversine Distance (km)')\n",
    "plt.ylabel('Google Driving Distance (km)')\n",
    "xy = [0,6.500]\n",
    "plt.plot(xy,xy,'k')\n",
    "ax = fig.add_subplot(111)\n",
    "plt.xlim([0, 7]); plt.ylim([0, 40])\n",
    "params = {'width':2,\n",
    "          'shrink': 0.05,\n",
    "          'facecolor':'black'}\n",
    "ax.annotate('y=x', xy=(5.8,5.8), xytext=(6,1), arrowprops=params)"
   ]
  },
  {
   "cell_type": "markdown",
   "metadata": {},
   "source": [
    "Let's look at a couple of examples for the large deltas."
   ]
  },
  {
   "cell_type": "code",
   "execution_count": 15,
   "metadata": {},
   "outputs": [
    {
     "data": {
      "text/html": [
       "<div>\n",
       "<style scoped>\n",
       "    .dataframe tbody tr th:only-of-type {\n",
       "        vertical-align: middle;\n",
       "    }\n",
       "\n",
       "    .dataframe tbody tr th {\n",
       "        vertical-align: top;\n",
       "    }\n",
       "\n",
       "    .dataframe thead th {\n",
       "        text-align: right;\n",
       "    }\n",
       "</style>\n",
       "<table border=\"1\" class=\"dataframe\">\n",
       "  <thead>\n",
       "    <tr style=\"text-align: right;\">\n",
       "      <th></th>\n",
       "      <th>origin</th>\n",
       "      <th>dest</th>\n",
       "      <th>n_neighbor</th>\n",
       "      <th>crow</th>\n",
       "      <th>goog</th>\n",
       "      <th>delta</th>\n",
       "    </tr>\n",
       "  </thead>\n",
       "  <tbody>\n",
       "    <tr>\n",
       "      <th>2275</th>\n",
       "      <td>2757</td>\n",
       "      <td>3031</td>\n",
       "      <td>17</td>\n",
       "      <td>2672.684762</td>\n",
       "      <td>31016</td>\n",
       "      <td>28343.315238</td>\n",
       "    </tr>\n",
       "    <tr>\n",
       "      <th>1969</th>\n",
       "      <td>2267</td>\n",
       "      <td>2497</td>\n",
       "      <td>7</td>\n",
       "      <td>1741.407797</td>\n",
       "      <td>30912</td>\n",
       "      <td>29170.592203</td>\n",
       "    </tr>\n",
       "    <tr>\n",
       "      <th>2087</th>\n",
       "      <td>2499</td>\n",
       "      <td>2916</td>\n",
       "      <td>15</td>\n",
       "      <td>1441.316883</td>\n",
       "      <td>32476</td>\n",
       "      <td>31034.683117</td>\n",
       "    </tr>\n",
       "    <tr>\n",
       "      <th>514</th>\n",
       "      <td>454</td>\n",
       "      <td>2491</td>\n",
       "      <td>17</td>\n",
       "      <td>2861.271057</td>\n",
       "      <td>36536</td>\n",
       "      <td>33674.728943</td>\n",
       "    </tr>\n",
       "    <tr>\n",
       "      <th>1232</th>\n",
       "      <td>1203</td>\n",
       "      <td>2417</td>\n",
       "      <td>13</td>\n",
       "      <td>2097.580642</td>\n",
       "      <td>38791</td>\n",
       "      <td>36693.419358</td>\n",
       "    </tr>\n",
       "  </tbody>\n",
       "</table>\n",
       "</div>"
      ],
      "text/plain": [
       "      origin  dest  n_neighbor         crow   goog         delta\n",
       "2275    2757  3031          17  2672.684762  31016  28343.315238\n",
       "1969    2267  2497           7  1741.407797  30912  29170.592203\n",
       "2087    2499  2916          15  1441.316883  32476  31034.683117\n",
       "514      454  2491          17  2861.271057  36536  33674.728943\n",
       "1232    1203  2417          13  2097.580642  38791  36693.419358"
      ]
     },
     "execution_count": 15,
     "metadata": {},
     "output_type": "execute_result"
    }
   ],
   "source": [
    "sample.tail()"
   ]
  },
  {
   "cell_type": "markdown",
   "metadata": {},
   "source": [
    "## Example 1: Freeway Segment"
   ]
  },
  {
   "cell_type": "code",
   "execution_count": 16,
   "metadata": {},
   "outputs": [
    {
     "name": "stdout",
     "output_type": "stream",
     "text": [
      "[42.25180422900007, -73.03956206299995] [42.23796716600003, -73.05688164999998]\n"
     ]
    }
   ],
   "source": [
    "print(XY[1203], XY[2417])"
   ]
  },
  {
   "cell_type": "markdown",
   "metadata": {},
   "source": [
    "Google Map Directions for this O-D pair. Issue is that the destination segment is eastbound so the directions has to find the nearest on-ramp in the EB direction."
   ]
  },
  {
   "cell_type": "markdown",
   "metadata": {},
   "source": [
    "![gmaps1](img/distance_comparison1.png)"
   ]
  },
  {
   "cell_type": "markdown",
   "metadata": {},
   "source": [
    "## Example 2: Another Freeway Segment"
   ]
  },
  {
   "cell_type": "code",
   "execution_count": 17,
   "metadata": {
    "scrolled": true
   },
   "outputs": [
    {
     "name": "stdout",
     "output_type": "stream",
     "text": [
      "[42.34144445000004, -73.39379061699998] [42.35252574200007, -73.38469198599995]\n"
     ]
    }
   ],
   "source": [
    "print(XY[2499], XY[2916])"
   ]
  },
  {
   "cell_type": "markdown",
   "metadata": {},
   "source": [
    "This time, there is no nearby off-ramp to the destination so a circuitous route is required."
   ]
  },
  {
   "cell_type": "markdown",
   "metadata": {},
   "source": [
    "![gmaps2](img/distance_comparison2.png)"
   ]
  },
  {
   "cell_type": "markdown",
   "metadata": {},
   "source": [
    "So the common theme appears to be is that if one of the OD pairs is a freeway segment, then you are likely to have considerable longer driving distances than haversine. Also, of note, is that reverse directions would also give a substantially different answer also."
   ]
  },
  {
   "cell_type": "markdown",
   "metadata": {},
   "source": [
    "What if we removed the road segments with FCC value of 1 and 2 from the dataset?"
   ]
  },
  {
   "cell_type": "code",
   "execution_count": 18,
   "metadata": {},
   "outputs": [],
   "source": [
    "freeways = county[county['FUNCCODE'].isin(['1','2'])]\n",
    "idx = set(freeways.index)\n",
    "tf = (sample['origin'].isin(idx)) | (sample['dest'].isin(idx))\n",
    "F36 = sample[~tf]"
   ]
  },
  {
   "cell_type": "markdown",
   "metadata": {},
   "source": [
    "## Figure 2: Google vs Haversine excluding FCC codes 1 and 2"
   ]
  },
  {
   "cell_type": "code",
   "execution_count": 19,
   "metadata": {
    "scrolled": false
   },
   "outputs": [
    {
     "name": "stderr",
     "output_type": "stream",
     "text": [
      "C:\\Users\\caoa\\AppData\\Local\\Continuum\\anaconda3\\lib\\site-packages\\matplotlib\\cbook\\deprecation.py:106: MatplotlibDeprecationWarning: Adding an axes using the same arguments as a previous axes currently reuses the earlier instance.  In a future version, a new instance will always be created and returned.  Meanwhile, this warning can be suppressed, and the future behavior ensured, by passing a unique label to each axes instance.\n",
      "  warnings.warn(message, mplDeprecation, stacklevel=1)\n"
     ]
    },
    {
     "data": {
      "text/plain": [
       "Text(6,1,'y=x')"
      ]
     },
     "execution_count": 19,
     "metadata": {},
     "output_type": "execute_result"
    },
    {
     "data": {
      "image/png": "[encoded data removed]",
      "text/plain": [
       "<matplotlib.figure.Figure at 0xba617b8>"
      ]
     },
     "metadata": {},
     "output_type": "display_data"
    }
   ],
   "source": [
    "fig = plt.figure(figsize=(16,5))\n",
    "plt.scatter(F36['crow']/1000, F36['goog']/1000,alpha=0.1)\n",
    "plt.xlabel('Haversine Distance (km)')\n",
    "plt.ylabel('Google Driving Distance (km)')\n",
    "xy = [0,6.500]\n",
    "plt.plot(xy,xy,'k')\n",
    "ax = fig.add_subplot(111)\n",
    "plt.xlim([0, 7]); plt.ylim([0, 40])\n",
    "params = {'width':2,\n",
    "          'shrink': 0.05,\n",
    "          'facecolor':'black'}\n",
    "ax.annotate('y=x', xy=(5.8,5.8), xytext=(6,1), arrowprops=params)"
   ]
  },
  {
   "cell_type": "markdown",
   "metadata": {},
   "source": [
    "Let's see what's going on with our worst offenders again. There seems to be two class of discrepancies based on the figure and the columns `delta` and  `n_neighbor`. The bottom five fall into one class and the next 5 fall into a different class of problems."
   ]
  },
  {
   "cell_type": "code",
   "execution_count": 20,
   "metadata": {},
   "outputs": [
    {
     "data": {
      "text/html": [
       "<div>\n",
       "<style scoped>\n",
       "    .dataframe tbody tr th:only-of-type {\n",
       "        vertical-align: middle;\n",
       "    }\n",
       "\n",
       "    .dataframe tbody tr th {\n",
       "        vertical-align: top;\n",
       "    }\n",
       "\n",
       "    .dataframe thead th {\n",
       "        text-align: right;\n",
       "    }\n",
       "</style>\n",
       "<table border=\"1\" class=\"dataframe\">\n",
       "  <thead>\n",
       "    <tr style=\"text-align: right;\">\n",
       "      <th></th>\n",
       "      <th>origin</th>\n",
       "      <th>dest</th>\n",
       "      <th>n_neighbor</th>\n",
       "      <th>crow</th>\n",
       "      <th>goog</th>\n",
       "      <th>delta</th>\n",
       "    </tr>\n",
       "  </thead>\n",
       "  <tbody>\n",
       "    <tr>\n",
       "      <th>1226</th>\n",
       "      <td>1190</td>\n",
       "      <td>2760</td>\n",
       "      <td>19</td>\n",
       "      <td>5331.533066</td>\n",
       "      <td>14695</td>\n",
       "      <td>9363.466934</td>\n",
       "    </tr>\n",
       "    <tr>\n",
       "      <th>393</th>\n",
       "      <td>336</td>\n",
       "      <td>2593</td>\n",
       "      <td>18</td>\n",
       "      <td>5696.087499</td>\n",
       "      <td>15829</td>\n",
       "      <td>10132.912501</td>\n",
       "    </tr>\n",
       "    <tr>\n",
       "      <th>488</th>\n",
       "      <td>439</td>\n",
       "      <td>2592</td>\n",
       "      <td>16</td>\n",
       "      <td>5637.509696</td>\n",
       "      <td>15922</td>\n",
       "      <td>10284.490304</td>\n",
       "    </tr>\n",
       "    <tr>\n",
       "      <th>753</th>\n",
       "      <td>628</td>\n",
       "      <td>814</td>\n",
       "      <td>14</td>\n",
       "      <td>6041.023157</td>\n",
       "      <td>17285</td>\n",
       "      <td>11243.976843</td>\n",
       "    </tr>\n",
       "    <tr>\n",
       "      <th>754</th>\n",
       "      <td>629</td>\n",
       "      <td>814</td>\n",
       "      <td>14</td>\n",
       "      <td>5988.336124</td>\n",
       "      <td>17358</td>\n",
       "      <td>11369.663876</td>\n",
       "    </tr>\n",
       "    <tr>\n",
       "      <th>1896</th>\n",
       "      <td>2127</td>\n",
       "      <td>3124</td>\n",
       "      <td>8</td>\n",
       "      <td>2834.782151</td>\n",
       "      <td>26001</td>\n",
       "      <td>23166.217849</td>\n",
       "    </tr>\n",
       "    <tr>\n",
       "      <th>1816</th>\n",
       "      <td>1961</td>\n",
       "      <td>2811</td>\n",
       "      <td>9</td>\n",
       "      <td>2296.415740</td>\n",
       "      <td>26673</td>\n",
       "      <td>24376.584260</td>\n",
       "    </tr>\n",
       "    <tr>\n",
       "      <th>1897</th>\n",
       "      <td>2128</td>\n",
       "      <td>2652</td>\n",
       "      <td>7</td>\n",
       "      <td>2035.037385</td>\n",
       "      <td>26604</td>\n",
       "      <td>24568.962615</td>\n",
       "    </tr>\n",
       "    <tr>\n",
       "      <th>1332</th>\n",
       "      <td>1346</td>\n",
       "      <td>3171</td>\n",
       "      <td>7</td>\n",
       "      <td>300.541766</td>\n",
       "      <td>26577</td>\n",
       "      <td>26276.458234</td>\n",
       "    </tr>\n",
       "    <tr>\n",
       "      <th>44</th>\n",
       "      <td>46</td>\n",
       "      <td>3171</td>\n",
       "      <td>2</td>\n",
       "      <td>161.252246</td>\n",
       "      <td>26885</td>\n",
       "      <td>26723.747754</td>\n",
       "    </tr>\n",
       "  </tbody>\n",
       "</table>\n",
       "</div>"
      ],
      "text/plain": [
       "      origin  dest  n_neighbor         crow   goog         delta\n",
       "1226    1190  2760          19  5331.533066  14695   9363.466934\n",
       "393      336  2593          18  5696.087499  15829  10132.912501\n",
       "488      439  2592          16  5637.509696  15922  10284.490304\n",
       "753      628   814          14  6041.023157  17285  11243.976843\n",
       "754      629   814          14  5988.336124  17358  11369.663876\n",
       "1896    2127  3124           8  2834.782151  26001  23166.217849\n",
       "1816    1961  2811           9  2296.415740  26673  24376.584260\n",
       "1897    2128  2652           7  2035.037385  26604  24568.962615\n",
       "1332    1346  3171           7   300.541766  26577  26276.458234\n",
       "44        46  3171           2   161.252246  26885  26723.747754"
      ]
     },
     "execution_count": 20,
     "metadata": {},
     "output_type": "execute_result"
    }
   ],
   "source": [
    "F36.tail(10)"
   ]
  },
  {
   "cell_type": "markdown",
   "metadata": {},
   "source": [
    "## Example 3: Freeway Segment"
   ]
  },
  {
   "cell_type": "code",
   "execution_count": 21,
   "metadata": {},
   "outputs": [
    {
     "name": "stdout",
     "output_type": "stream",
     "text": [
      "[42.328109753000035, -73.36298205699995] [42.32730243800006, -73.36461153199997]\n"
     ]
    }
   ],
   "source": [
    "print(XY[46], XY[3171])"
   ]
  },
  {
   "cell_type": "markdown",
   "metadata": {},
   "source": [
    "The problem is that the destination is still on a freeway segment and heading westbound but before the on-ramp to the highway."
   ]
  },
  {
   "cell_type": "markdown",
   "metadata": {},
   "source": [
    "![gmaps3](img/distance_comparison3.png)"
   ]
  },
  {
   "cell_type": "markdown",
   "metadata": {},
   "source": [
    "Let's look at its FUNCCODE of the destination to make sure we're not hallucinating. It has code 5. "
   ]
  },
  {
   "cell_type": "code",
   "execution_count": 22,
   "metadata": {},
   "outputs": [
    {
     "data": {
      "text/plain": [
       "FUNCCODE                                          5\n",
       "pt          (-73.36461153199997, 42.32730243800006)\n",
       "Name: 3171, dtype: object"
      ]
     },
     "execution_count": 22,
     "metadata": {},
     "output_type": "execute_result"
    }
   ],
   "source": [
    "county.loc[3171,['FUNCCODE','pt'] ]"
   ]
  },
  {
   "cell_type": "markdown",
   "metadata": {},
   "source": [
    "Not sure if we can do anything to avoid this situation. If we reverse directions, then the distance would definitely be a lot shorter."
   ]
  },
  {
   "cell_type": "markdown",
   "metadata": {},
   "source": [
    "## Example 4: Shortest Time Route"
   ]
  },
  {
   "cell_type": "code",
   "execution_count": 23,
   "metadata": {},
   "outputs": [
    {
     "name": "stdout",
     "output_type": "stream",
     "text": [
      "[42.11620711100005, -73.49637794099993] [42.154813696000076, -73.44574458599999]\n"
     ]
    }
   ],
   "source": [
    "print(XY[629], XY[814])"
   ]
  },
  {
   "cell_type": "markdown",
   "metadata": {},
   "source": [
    "This seems to be a function of the road network but also google's preference for shortest time. There is a shorter distance route that it could have given. Unfortunately, there is no way to specify this constraint in the call to the API."
   ]
  },
  {
   "cell_type": "markdown",
   "metadata": {},
   "source": [
    "![gmaps4](img/distance_comparison4.png)"
   ]
  },
  {
   "cell_type": "markdown",
   "metadata": {},
   "source": [
    "## Example 5: Another Shortest Time Route"
   ]
  },
  {
   "cell_type": "code",
   "execution_count": 24,
   "metadata": {
    "scrolled": true
   },
   "outputs": [
    {
     "name": "stdout",
     "output_type": "stream",
     "text": [
      "[42.048620276000065, -73.12225781699993] [42.08375019500005, -73.07301614799997]\n"
     ]
    }
   ],
   "source": [
    "print(XY[439], XY[2592])"
   ]
  },
  {
   "cell_type": "markdown",
   "metadata": {},
   "source": [
    "Same problem here. Google chose the shortest time path instead of the shortest distance path. "
   ]
  },
  {
   "cell_type": "markdown",
   "metadata": {},
   "source": [
    "![gmaps5](img/distance_comparison5.png)"
   ]
  },
  {
   "cell_type": "markdown",
   "metadata": {},
   "source": [
    "# Summary\n",
    "\n",
    "Differences in distance are attributable to the following factors:\n",
    "1. O-D pair contains a freeway segment.\n",
    "2. Google API chooses the shortest time path by default rather than the shortest distance path."
   ]
  },
  {
   "cell_type": "code",
   "execution_count": null,
   "metadata": {},
   "outputs": [],
   "source": []
  }
 ],
 "metadata": {
  "kernelspec": {
   "display_name": "Python 3",
   "language": "python",
   "name": "python3"
  },
  "language_info": {
   "codemirror_mode": {
    "name": "ipython",
    "version": 3
   },
   "file_extension": ".py",
   "mimetype": "text/x-python",
   "name": "python",
   "nbconvert_exporter": "python",
   "pygments_lexer": "ipython3",
   "version": "3.6.4"
  }
 },
 "nbformat": 4,
 "nbformat_minor": 2
}
